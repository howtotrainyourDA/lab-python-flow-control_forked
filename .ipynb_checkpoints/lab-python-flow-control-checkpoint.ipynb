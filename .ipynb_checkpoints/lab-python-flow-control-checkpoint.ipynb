{
 "cells": [
  {
   "cell_type": "markdown",
   "id": "d3bfc191-8885-42ee-b0a0-bbab867c6f9f",
   "metadata": {
    "tags": []
   },
   "source": [
    "# Lab | Flow Control"
   ]
  },
  {
   "cell_type": "markdown",
   "id": "3851fcd1-cf98-4653-9c89-e003b7ec9400",
   "metadata": {},
   "source": [
    "## Exercise: Managing Customer Orders Optimized\n",
    "\n",
    "In the last lab, you were starting an online store that sells various products. To ensure smooth operations, you developed a program that manages customer orders and inventory.\n",
    "\n",
    "You did so without using flow control. Let's go a step further and improve this code.\n",
    "\n",
    "Follow the steps below to complete the exercise:\n",
    "\n",
    "1. Look at your code from the lab data structures, and improve repeated code with loops.\n",
    "\n",
    "2. Instead of asking the user to input the name of three products that a customer wants to order, do the following:\n",
    "    \n",
    "    a. Prompt the user to enter the name of a product that a customer wants to order.\n",
    "    \n",
    "    b. Add the product name to the \"customer_orders\" set.\n",
    "    \n",
    "    c. Ask the user if they want to add another product (yes/no).\n",
    "    \n",
    "    d. Continue the loop until the user does not want to add another product.\n",
    "\n",
    "3. Instead of updating the inventory by subtracting 1 from the quantity of each product, only do it for  the products that were ordered (those in \"customer_orders\")."
   ]
  },
  {
   "cell_type": "code",
   "execution_count": 8,
   "id": "3aaaa34a-a0b1-444d-8ab6-5bdb893c3285",
   "metadata": {},
   "outputs": [],
   "source": [
    "# 1.\n",
    "\n",
    "products = [\"t-shirt\", \"mug\", \"hat\", \"book\", \"keychain\"]\n"
   ]
  },
  {
   "cell_type": "code",
   "execution_count": 9,
   "id": "7740b92d-57b7-4d85-9904-7ffb0262eca4",
   "metadata": {},
   "outputs": [],
   "source": [
    "# 2. \n",
    "inventory = {}\n",
    "\n"
   ]
  },
  {
   "cell_type": "code",
   "execution_count": 10,
   "id": "51413e50-dcf5-432a-9b6a-d8f3f7cce912",
   "metadata": {
    "scrolled": true
   },
   "outputs": [
    {
     "name": "stdin",
     "output_type": "stream",
     "text": [
      "Please enter amount for t-shirt. 8\n",
      "Please enter amount for mug. 8\n",
      "Please enter amount for hat. 8\n",
      "Please enter amount for book. 8\n",
      "Please enter amount for keychain. 8\n"
     ]
    },
    {
     "name": "stdout",
     "output_type": "stream",
     "text": [
      "{'t-shirt': 8, 'mug': 8, 'hat': 8, 'book': 8, 'keychain': 8}\n"
     ]
    }
   ],
   "source": [
    "#3. \n",
    "\n",
    "for item in products:\n",
    "    usr = int(input(f\"Please enter amount for {item}.\"))\n",
    "    inventory[item] = usr   \n",
    "\n",
    "\n",
    "#inventory.update([items, usr])\n",
    "#my_dict.update([('city', 'New York'), ('email', 'alice@example.com')])\n",
    "\n",
    "print(inventory)\n"
   ]
  },
  {
   "cell_type": "code",
   "execution_count": 24,
   "id": "65e8a897-b6be-4ed1-b77d-41c721f586bb",
   "metadata": {},
   "outputs": [],
   "source": [
    "#4.\n",
    "\n",
    "\n",
    "customer_orders = set()\n"
   ]
  },
  {
   "cell_type": "code",
   "execution_count": 26,
   "id": "32d963bf-0100-4ce0-a388-d84fd582072b",
   "metadata": {},
   "outputs": [
    {
     "name": "stdin",
     "output_type": "stream",
     "text": [
      "How many items do you want to order? 2\n",
      "Name the products you want to order mug\n",
      "Name the products you want to order book\n",
      "Do you want to order more? no\n"
     ]
    }
   ],
   "source": [
    "#5. \n",
    "\n",
    "\n",
    "def customer_order():\n",
    "    num_order = int(input(\"How many items do you want to order?\"))\n",
    "    for i in range(num_order):\n",
    "        order = input(f\"Name the products you want to order\")\n",
    "        i += 1\n",
    "        customer_orders.add(order)\n",
    "    \n",
    "    choice = input(\"Do you want to order more?\")\n",
    "    if choice == \"yes\":\n",
    "        customer_order()\n",
    "    else:\n",
    "        pass\n",
    "\n",
    "customer_order()"
   ]
  },
  {
   "cell_type": "code",
   "execution_count": 28,
   "id": "8f7812ba-bb23-443e-905b-e0469f662b16",
   "metadata": {},
   "outputs": [
    {
     "name": "stdout",
     "output_type": "stream",
     "text": [
      "{'book', 'mug'}\n"
     ]
    }
   ],
   "source": [
    "#6.\n",
    "\n",
    "print(customer_orders)"
   ]
  },
  {
   "cell_type": "code",
   "execution_count": 136,
   "id": "988eed05-45fe-4a00-abb6-c2283d935b8a",
   "metadata": {
    "scrolled": true
   },
   "outputs": [
    {
     "name": "stdin",
     "output_type": "stream",
     "text": [
      "how many hats do you want to buy? 2\n",
      "how many mugs do you want to buy? 4\n",
      "how many books do you want to buy? 6\n"
     ]
    },
    {
     "name": "stdout",
     "output_type": "stream",
     "text": [
      "{'hat': 2, 'mug': 4, 'book': 6}\n"
     ]
    }
   ],
   "source": [
    "#7. \n",
    "shopping_cart = {}\n",
    "total_amount = 0\n",
    "total_amount_ordered = 0\n",
    "\n",
    "for item in customer_orders:\n",
    "    buy = int(input(f\"how many {item}s do you want to buy?\"))\n",
    "    shopping_cart[item] = buy\n",
    "\n",
    "print(shopping_cart)\n",
    "\n",
    "for key, value in shopping_cart.items():\n",
    "    total_amount_ordered += value\n",
    "for key, value in inventory.items():\n",
    "    total_amount += value\n",
    "    \n",
    "order_status = (total_amount_ordered / total_amount) *100\n",
    "\n"
   ]
  },
  {
   "cell_type": "code",
   "execution_count": 137,
   "id": "0eb95f7a-d704-40a9-aab0-0113cdd6a4f7",
   "metadata": {},
   "outputs": [
    {
     "name": "stdout",
     "output_type": "stream",
     "text": [
      "Order Statistics: \n",
      "Total Products Ordered: 12\n",
      "Percentage of Products Ordered: 1200\n"
     ]
    }
   ],
   "source": [
    "# 8.\n",
    "\n",
    "print(f\"Order Statistics: \\nTotal Products Ordered: {total_amount_ordered}\\nPercentage of Products Ordered: {order_status}\") \n"
   ]
  },
  {
   "cell_type": "code",
   "execution_count": 138,
   "id": "e3dd7f63-f45e-4dc9-a3a9-cbb10147c196",
   "metadata": {},
   "outputs": [
    {
     "name": "stdout",
     "output_type": "stream",
     "text": [
      "{'t-shirt': 8, 'mug': 4, 'hat': 6, 'book': 2, 'keychain': 8}\n",
      "t-shirt : 8\n",
      "mug : 4\n",
      "hat : 6\n",
      "book : 2\n",
      "keychain : 8\n"
     ]
    }
   ],
   "source": [
    "# 9.\n",
    "\n",
    "for key, value in shopping_cart.items():\n",
    "    inventory[key] = inventory.get(key) - value\n",
    "\n",
    "for key, value in inventory.items():\n",
    "    print(f\"{key} : {value}\")"
   ]
  }
 ],
 "metadata": {
  "kernelspec": {
   "display_name": "Python 3 (ipykernel)",
   "language": "python",
   "name": "python3"
  },
  "language_info": {
   "codemirror_mode": {
    "name": "ipython",
    "version": 3
   },
   "file_extension": ".py",
   "mimetype": "text/x-python",
   "name": "python",
   "nbconvert_exporter": "python",
   "pygments_lexer": "ipython3",
   "version": "3.12.4"
  }
 },
 "nbformat": 4,
 "nbformat_minor": 5
}
